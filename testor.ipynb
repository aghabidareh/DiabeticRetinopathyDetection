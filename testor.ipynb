{
 "cells": [
  {
   "cell_type": "code",
   "execution_count": 1,
   "id": "47264891-5d3f-462d-ac8a-491138b81df1",
   "metadata": {},
   "outputs": [],
   "source": [
    "import numpy as np\n",
    "from tensorflow.keras.models import load_model\n",
    "from tensorflow.keras.preprocessing import image\n",
    "from pickle import load"
   ]
  },
  {
   "cell_type": "code",
   "execution_count": 2,
   "id": "10b8af8f-e2b0-4a3f-a5ab-fab976c8a53a",
   "metadata": {},
   "outputs": [],
   "source": [
    "model = load_model('model.h5')"
   ]
  },
  {
   "cell_type": "code",
   "execution_count": 3,
   "id": "056ecba5-572f-44eb-bf1b-05b2818b0144",
   "metadata": {},
   "outputs": [],
   "source": [
    "def preprocess_image(img_path, target_size=(224, 224)):\n",
    "    img = image.load_img(img_path, target_size=target_size)\n",
    "    img_array = image.img_to_array(img)\n",
    "    img_array = np.expand_dims(img_array, axis=0)\n",
    "    img_array /= 255.0\n",
    "    return img_array"
   ]
  },
  {
   "cell_type": "code",
   "execution_count": 4,
   "id": "3c8ac673-fd87-4bfb-93db-d31faeaed596",
   "metadata": {},
   "outputs": [],
   "source": [
    "img1 = 'testImage/Moderate.png'\n",
    "img2 = 'testImage/Mild.png'\n",
    "img3 = 'testImage/No_DR.png'\n",
    "img4 = 'testImage/Proliferate_DR.png'\n",
    "img5 = 'testImage/Sever.png'"
   ]
  },
  {
   "cell_type": "code",
   "execution_count": 5,
   "id": "b8986697-3dde-4477-a147-7fbaedabeea9",
   "metadata": {},
   "outputs": [],
   "source": [
    "img1_array = preprocess_image(img1)\n",
    "img2_array = preprocess_image(img2)\n",
    "img3_array = preprocess_image(img3)\n",
    "img4_array = preprocess_image(img4)\n",
    "img5_array = preprocess_image(img5)"
   ]
  },
  {
   "cell_type": "code",
   "execution_count": 6,
   "id": "49f32100-0cab-4ffd-a71d-16492504a76b",
   "metadata": {},
   "outputs": [
    {
     "name": "stdout",
     "output_type": "stream",
     "text": [
      "1/1 [==============================] - 5s 5s/step\n",
      "1/1 [==============================] - 0s 28ms/step\n",
      "1/1 [==============================] - 0s 29ms/step\n",
      "1/1 [==============================] - 0s 26ms/step\n",
      "1/1 [==============================] - 0s 27ms/step\n"
     ]
    }
   ],
   "source": [
    "predictions1 = model.predict(img1_array)\n",
    "predictions2 = model.predict(img2_array)\n",
    "predictions3 = model.predict(img3_array)\n",
    "predictions4 = model.predict(img4_array)\n",
    "predictions5 = model.predict(img5_array)"
   ]
  },
  {
   "cell_type": "code",
   "execution_count": 7,
   "id": "bc533777-d55e-4e33-bb90-5083a1920c6c",
   "metadata": {},
   "outputs": [],
   "source": [
    "with open('classes.h5' , 'rb') as f:\n",
    "    classes = load(f)"
   ]
  },
  {
   "cell_type": "code",
   "execution_count": 8,
   "id": "4b36ad5d-9f21-42a3-9577-546d67592364",
   "metadata": {},
   "outputs": [],
   "source": [
    "def predictor(prediction):\n",
    "    pred_class = np.argmax(prediction, axis=1)\n",
    "    predicted_class_label = class_labels[pred_class[0]]\n",
    "    return predicted_class_label"
   ]
  },
  {
   "cell_type": "code",
   "execution_count": 9,
   "id": "f6cc24b5-03b7-44ba-b13e-c8e324cf53ea",
   "metadata": {},
   "outputs": [],
   "source": [
    "class_labels = list(classes.keys())\n",
    "predict1 = predictor(predictions1)\n",
    "predict2 = predictor(predictions2)\n",
    "predict3 = predictor(predictions3)\n",
    "predict4 = predictor(predictions4)\n",
    "predict5 = predictor(predictions5)"
   ]
  },
  {
   "cell_type": "code",
   "execution_count": 10,
   "id": "c0bbad3d-c8dc-4645-8b9d-a2a0fbff2dc8",
   "metadata": {},
   "outputs": [
    {
     "name": "stdout",
     "output_type": "stream",
     "text": [
      "Moderate\n",
      "Mild\n",
      "No_DR\n",
      "Proliferate_DR\n",
      "Severe\n"
     ]
    }
   ],
   "source": [
    "print(predict1)\n",
    "print(predict2)\n",
    "print(predict3)\n",
    "print(predict4)\n",
    "print(predict5)"
   ]
  }
 ],
 "metadata": {
  "kernelspec": {
   "display_name": "Python 3 (ipykernel)",
   "language": "python",
   "name": "python3"
  },
  "language_info": {
   "codemirror_mode": {
    "name": "ipython",
    "version": 3
   },
   "file_extension": ".py",
   "mimetype": "text/x-python",
   "name": "python",
   "nbconvert_exporter": "python",
   "pygments_lexer": "ipython3",
   "version": "3.10.16"
  }
 },
 "nbformat": 4,
 "nbformat_minor": 5
}
