{
 "cells": [
  {
   "cell_type": "code",
   "execution_count": 6,
   "id": "5c5dae6f-06c8-461f-9754-4311931aaeac",
   "metadata": {},
   "outputs": [],
   "source": [
    "from tensorflow.keras.preprocessing.image import ImageDataGenerator\n",
    "from tensorflow.keras.models import Model , Sequential\n",
    "from tensorflow.keras.layers import Input , Conv2D, MaxPooling2D, Dropout, Dense, Flatten , MaxPool2D\n",
    "from keras.applications import ResNet50\n",
    "from tensorflow.keras.callbacks import ModelCheckpoint , EarlyStopping , ReduceLROnPlateau\n",
    "from tensorflow.keras.optimizers import Adam\n",
    "from tensorflow.keras.losses import CategoricalCrossentropy\n",
    "import random"
   ]
  },
  {
   "cell_type": "code",
   "execution_count": 7,
   "id": "f8c2f911-3644-4c8c-ac13-4a40ee838813",
   "metadata": {},
   "outputs": [],
   "source": [
    "random.seed(1441)"
   ]
  },
  {
   "cell_type": "code",
   "execution_count": 8,
   "id": "fe8a9800-57fc-4245-a08a-c4d0e7d9e9c2",
   "metadata": {},
   "outputs": [],
   "source": [
    "train_data_dir = 'data/'\n",
    "img_width, img_height = 224, 224\n",
    "batch_size = 32\n",
    "epochs = 100\n",
    "num_classes = 5"
   ]
  },
  {
   "cell_type": "code",
   "execution_count": 9,
   "id": "32c11834-dbea-4282-b543-c923681e1469",
   "metadata": {},
   "outputs": [
    {
     "name": "stdout",
     "output_type": "stream",
     "text": [
      "Found 2931 images belonging to 5 classes.\n",
      "Found 731 images belonging to 5 classes.\n"
     ]
    }
   ],
   "source": [
    "train_datagen = ImageDataGenerator(\n",
    "    rescale=1./255,\n",
    "    shear_range=0.2,\n",
    "    validation_split=0.2\n",
    ")\n",
    "\n",
    "train_generator = train_datagen.flow_from_directory(\n",
    "    train_data_dir,\n",
    "    target_size=(img_width, img_height),\n",
    "    batch_size=batch_size,\n",
    "    class_mode='categorical',\n",
    "    subset='training'\n",
    ")\n",
    "\n",
    "validation_generator = train_datagen.flow_from_directory(\n",
    "    train_data_dir,\n",
    "    target_size=(img_width, img_height),\n",
    "    batch_size=batch_size,\n",
    "    class_mode='categorical',\n",
    "    subset='validation'\n",
    ")"
   ]
  },
  {
   "cell_type": "code",
   "execution_count": 10,
   "id": "ad15ae5b-09d5-4cc9-88f9-ad17bced5d05",
   "metadata": {},
   "outputs": [],
   "source": [
    "base_model = ResNet50(weights=\"imagenet\", include_top=False,\n",
    "\tinput_tensor=Input(shape=(224,224, 3)))"
   ]
  },
  {
   "cell_type": "code",
   "execution_count": 11,
   "id": "2e89a462-e639-45ba-a996-498a1cda336e",
   "metadata": {},
   "outputs": [],
   "source": [
    "base_model.trainable = False"
   ]
  },
  {
   "cell_type": "code",
   "execution_count": 12,
   "id": "d94ccceb-f07a-4e75-b74f-371836d8db5b",
   "metadata": {},
   "outputs": [],
   "source": [
    "model = Sequential()\n",
    "model.add(base_model)\n",
    "model.add(Conv2D(filters=32, kernel_size=3, activation='relu'))\n",
    "model.add(MaxPool2D(pool_size=2, strides=2))\n",
    "model.add(Flatten())\n",
    "model.add(Dense(128, activation='relu'))\n",
    "model.add(Dense(num_classes, activation='softmax'))"
   ]
  },
  {
   "cell_type": "code",
   "execution_count": 13,
   "id": "2e38a27c-cc01-4bbf-bb79-169420625798",
   "metadata": {},
   "outputs": [],
   "source": [
    "loss = CategoricalCrossentropy(name='loss')\n",
    "optimizer = Adam(learning_rate=0.0001 , name='optimizer')"
   ]
  },
  {
   "cell_type": "code",
   "execution_count": 14,
   "id": "0caf71e9-cf21-4c5b-8fbc-139aac075280",
   "metadata": {},
   "outputs": [],
   "source": [
    "model.compile(optimizer=optimizer, loss=loss, metrics=['accuracy'])"
   ]
  },
  {
   "cell_type": "code",
   "execution_count": 15,
   "id": "065a7c93-ecd8-4805-a2a5-0ef0529a2ec9",
   "metadata": {},
   "outputs": [
    {
     "name": "stdout",
     "output_type": "stream",
     "text": [
      "Model: \"sequential\"\n",
      "_________________________________________________________________\n",
      " Layer (type)                Output Shape              Param #   \n",
      "=================================================================\n",
      " resnet50 (Functional)       (None, 7, 7, 2048)        23587712  \n",
      "                                                                 \n",
      " conv2d (Conv2D)             (None, 5, 5, 32)          589856    \n",
      "                                                                 \n",
      " max_pooling2d (MaxPooling2D  (None, 2, 2, 32)         0         \n",
      " )                                                               \n",
      "                                                                 \n",
      " flatten (Flatten)           (None, 128)               0         \n",
      "                                                                 \n",
      " dense (Dense)               (None, 128)               16512     \n",
      "                                                                 \n",
      " dense_1 (Dense)             (None, 5)                 645       \n",
      "                                                                 \n",
      "=================================================================\n",
      "Total params: 24,194,725\n",
      "Trainable params: 607,013\n",
      "Non-trainable params: 23,587,712\n",
      "_________________________________________________________________\n"
     ]
    }
   ],
   "source": [
    "model.summary()"
   ]
  },
  {
   "cell_type": "code",
   "execution_count": 16,
   "id": "1fdfd2e8-010e-432f-859b-0868b6bd4da8",
   "metadata": {},
   "outputs": [],
   "source": [
    "checkpoint_filepath = 'model.h5'\n",
    "mc = ModelCheckpoint(\n",
    "    filepath=checkpoint_filepath,\n",
    "    monitor='val_loss',\n",
    "    mode='min',\n",
    "    save_best_only=True,\n",
    ")\n",
    "es = EarlyStopping(\n",
    "    monitor='val_loss',\n",
    "    patience=10,\n",
    ")\n",
    "rlorp = ReduceLROnPlateau(\n",
    "    min_lr=0.00001,\n",
    "    monitor='val_loss',\n",
    "    patience=5,\n",
    "    factor=0.5\n",
    ")"
   ]
  },
  {
   "cell_type": "code",
   "execution_count": 17,
   "id": "07cce74c-fcf9-48ec-9893-8652065bb8e6",
   "metadata": {},
   "outputs": [
    {
     "name": "stdout",
     "output_type": "stream",
     "text": [
      "Epoch 1/100\n",
      "91/91 [==============================] - 88s 871ms/step - loss: 1.2978 - accuracy: 0.4860 - val_loss: 1.2401 - val_accuracy: 0.6435 - lr: 1.0000e-04\n",
      "Epoch 2/100\n",
      "91/91 [==============================] - 43s 466ms/step - loss: 1.1969 - accuracy: 0.5140 - val_loss: 1.2528 - val_accuracy: 0.4219 - lr: 1.0000e-04\n",
      "Epoch 3/100\n",
      "91/91 [==============================] - 43s 470ms/step - loss: 1.1102 - accuracy: 0.5974 - val_loss: 1.0644 - val_accuracy: 0.6051 - lr: 1.0000e-04\n",
      "Epoch 4/100\n",
      "91/91 [==============================] - 43s 471ms/step - loss: 1.0306 - accuracy: 0.6513 - val_loss: 0.9934 - val_accuracy: 0.7031 - lr: 1.0000e-04\n",
      "Epoch 5/100\n",
      "91/91 [==============================] - 45s 491ms/step - loss: 0.9674 - accuracy: 0.6792 - val_loss: 0.9694 - val_accuracy: 0.6321 - lr: 1.0000e-04\n",
      "Epoch 6/100\n",
      "91/91 [==============================] - 44s 478ms/step - loss: 0.9295 - accuracy: 0.6875 - val_loss: 0.9214 - val_accuracy: 0.7017 - lr: 1.0000e-04\n",
      "Epoch 7/100\n",
      "91/91 [==============================] - 44s 486ms/step - loss: 0.9102 - accuracy: 0.6782 - val_loss: 0.9206 - val_accuracy: 0.6776 - lr: 1.0000e-04\n",
      "Epoch 8/100\n",
      "91/91 [==============================] - 45s 490ms/step - loss: 0.8910 - accuracy: 0.6944 - val_loss: 0.8997 - val_accuracy: 0.6974 - lr: 1.0000e-04\n",
      "Epoch 9/100\n",
      "91/91 [==============================] - 43s 470ms/step - loss: 0.8889 - accuracy: 0.6854 - val_loss: 0.8983 - val_accuracy: 0.6790 - lr: 1.0000e-04\n",
      "Epoch 10/100\n",
      "91/91 [==============================] - 44s 475ms/step - loss: 0.8672 - accuracy: 0.6961 - val_loss: 0.8843 - val_accuracy: 0.6946 - lr: 1.0000e-04\n",
      "Epoch 11/100\n",
      "91/91 [==============================] - 44s 476ms/step - loss: 0.8826 - accuracy: 0.6878 - val_loss: 0.8677 - val_accuracy: 0.6832 - lr: 1.0000e-04\n",
      "Epoch 12/100\n",
      "91/91 [==============================] - 43s 473ms/step - loss: 0.8606 - accuracy: 0.6895 - val_loss: 0.8820 - val_accuracy: 0.6719 - lr: 1.0000e-04\n",
      "Epoch 13/100\n",
      "91/91 [==============================] - 43s 472ms/step - loss: 0.8747 - accuracy: 0.6968 - val_loss: 0.8713 - val_accuracy: 0.6619 - lr: 1.0000e-04\n",
      "Epoch 14/100\n",
      "91/91 [==============================] - 43s 474ms/step - loss: 0.8591 - accuracy: 0.6961 - val_loss: 0.8185 - val_accuracy: 0.7116 - lr: 1.0000e-04\n",
      "Epoch 15/100\n",
      "91/91 [==============================] - 45s 493ms/step - loss: 0.8482 - accuracy: 0.6978 - val_loss: 0.8155 - val_accuracy: 0.7074 - lr: 1.0000e-04\n",
      "Epoch 16/100\n",
      "91/91 [==============================] - 43s 466ms/step - loss: 0.8472 - accuracy: 0.6971 - val_loss: 0.8374 - val_accuracy: 0.7145 - lr: 1.0000e-04\n",
      "Epoch 17/100\n",
      "91/91 [==============================] - 43s 465ms/step - loss: 0.8463 - accuracy: 0.6992 - val_loss: 0.8866 - val_accuracy: 0.6562 - lr: 1.0000e-04\n",
      "Epoch 18/100\n",
      "91/91 [==============================] - 43s 468ms/step - loss: 0.8350 - accuracy: 0.7054 - val_loss: 0.8268 - val_accuracy: 0.7230 - lr: 1.0000e-04\n",
      "Epoch 19/100\n",
      "91/91 [==============================] - 43s 471ms/step - loss: 0.8406 - accuracy: 0.7040 - val_loss: 0.8220 - val_accuracy: 0.7003 - lr: 1.0000e-04\n",
      "Epoch 20/100\n",
      "91/91 [==============================] - 43s 475ms/step - loss: 0.8257 - accuracy: 0.7061 - val_loss: 0.8147 - val_accuracy: 0.7145 - lr: 1.0000e-04\n",
      "Epoch 21/100\n",
      "91/91 [==============================] - 45s 491ms/step - loss: 0.8233 - accuracy: 0.7068 - val_loss: 0.8066 - val_accuracy: 0.7088 - lr: 1.0000e-04\n",
      "Epoch 22/100\n",
      "91/91 [==============================] - 42s 463ms/step - loss: 0.8177 - accuracy: 0.7102 - val_loss: 0.8762 - val_accuracy: 0.6918 - lr: 1.0000e-04\n",
      "Epoch 23/100\n",
      "91/91 [==============================] - 45s 492ms/step - loss: 0.8213 - accuracy: 0.7040 - val_loss: 0.7938 - val_accuracy: 0.7429 - lr: 1.0000e-04\n",
      "Epoch 24/100\n",
      "91/91 [==============================] - 45s 491ms/step - loss: 0.8163 - accuracy: 0.7058 - val_loss: 0.7991 - val_accuracy: 0.7088 - lr: 1.0000e-04\n",
      "Epoch 25/100\n",
      "91/91 [==============================] - 45s 490ms/step - loss: 0.8079 - accuracy: 0.7154 - val_loss: 0.8010 - val_accuracy: 0.7074 - lr: 1.0000e-04\n",
      "Epoch 26/100\n",
      "91/91 [==============================] - 43s 464ms/step - loss: 0.8146 - accuracy: 0.7092 - val_loss: 0.7963 - val_accuracy: 0.7358 - lr: 1.0000e-04\n",
      "Epoch 27/100\n",
      "91/91 [==============================] - 43s 464ms/step - loss: 0.8063 - accuracy: 0.7054 - val_loss: 0.8384 - val_accuracy: 0.6818 - lr: 1.0000e-04\n",
      "Epoch 28/100\n",
      "91/91 [==============================] - 44s 483ms/step - loss: 0.7939 - accuracy: 0.7137 - val_loss: 0.7996 - val_accuracy: 0.7102 - lr: 1.0000e-04\n",
      "Epoch 29/100\n",
      "91/91 [==============================] - 44s 477ms/step - loss: 0.7929 - accuracy: 0.7144 - val_loss: 0.7756 - val_accuracy: 0.7230 - lr: 5.0000e-05\n",
      "Epoch 30/100\n",
      "91/91 [==============================] - 43s 470ms/step - loss: 0.7913 - accuracy: 0.7096 - val_loss: 0.7666 - val_accuracy: 0.7159 - lr: 5.0000e-05\n",
      "Epoch 31/100\n",
      "91/91 [==============================] - 43s 465ms/step - loss: 0.7860 - accuracy: 0.7196 - val_loss: 0.7921 - val_accuracy: 0.7216 - lr: 5.0000e-05\n",
      "Epoch 32/100\n",
      "91/91 [==============================] - 43s 467ms/step - loss: 0.7919 - accuracy: 0.7113 - val_loss: 0.7713 - val_accuracy: 0.7017 - lr: 5.0000e-05\n",
      "Epoch 33/100\n",
      "91/91 [==============================] - 43s 472ms/step - loss: 0.7889 - accuracy: 0.7140 - val_loss: 0.7711 - val_accuracy: 0.7145 - lr: 5.0000e-05\n",
      "Epoch 34/100\n",
      "91/91 [==============================] - 43s 467ms/step - loss: 0.7760 - accuracy: 0.7213 - val_loss: 0.7840 - val_accuracy: 0.7102 - lr: 5.0000e-05\n",
      "Epoch 35/100\n",
      "91/91 [==============================] - 45s 489ms/step - loss: 0.7831 - accuracy: 0.7178 - val_loss: 0.7762 - val_accuracy: 0.7330 - lr: 5.0000e-05\n",
      "Epoch 36/100\n",
      "91/91 [==============================] - 44s 484ms/step - loss: 0.7721 - accuracy: 0.7282 - val_loss: 0.7690 - val_accuracy: 0.7401 - lr: 2.5000e-05\n",
      "Epoch 37/100\n",
      "91/91 [==============================] - 43s 470ms/step - loss: 0.7721 - accuracy: 0.7192 - val_loss: 0.7631 - val_accuracy: 0.7003 - lr: 2.5000e-05\n",
      "Epoch 38/100\n",
      "91/91 [==============================] - 43s 465ms/step - loss: 0.7756 - accuracy: 0.7206 - val_loss: 0.7682 - val_accuracy: 0.7060 - lr: 2.5000e-05\n",
      "Epoch 39/100\n",
      "91/91 [==============================] - 44s 479ms/step - loss: 0.7724 - accuracy: 0.7192 - val_loss: 0.7405 - val_accuracy: 0.7173 - lr: 2.5000e-05\n",
      "Epoch 40/100\n",
      "91/91 [==============================] - 43s 472ms/step - loss: 0.7751 - accuracy: 0.7209 - val_loss: 0.7830 - val_accuracy: 0.7074 - lr: 2.5000e-05\n",
      "Epoch 41/100\n",
      "91/91 [==============================] - 43s 471ms/step - loss: 0.7711 - accuracy: 0.7230 - val_loss: 0.7615 - val_accuracy: 0.7358 - lr: 2.5000e-05\n",
      "Epoch 42/100\n",
      "91/91 [==============================] - 43s 471ms/step - loss: 0.7693 - accuracy: 0.7251 - val_loss: 0.7689 - val_accuracy: 0.7244 - lr: 2.5000e-05\n",
      "Epoch 43/100\n",
      "91/91 [==============================] - 43s 467ms/step - loss: 0.7733 - accuracy: 0.7199 - val_loss: 0.7890 - val_accuracy: 0.7372 - lr: 2.5000e-05\n",
      "Epoch 44/100\n",
      "91/91 [==============================] - 43s 466ms/step - loss: 0.7717 - accuracy: 0.7202 - val_loss: 0.7697 - val_accuracy: 0.7131 - lr: 2.5000e-05\n",
      "Epoch 45/100\n",
      "91/91 [==============================] - 44s 483ms/step - loss: 0.7634 - accuracy: 0.7202 - val_loss: 0.7853 - val_accuracy: 0.7102 - lr: 1.2500e-05\n",
      "Epoch 46/100\n",
      "91/91 [==============================] - 43s 468ms/step - loss: 0.7648 - accuracy: 0.7202 - val_loss: 0.7590 - val_accuracy: 0.7287 - lr: 1.2500e-05\n",
      "Epoch 47/100\n",
      "91/91 [==============================] - 43s 470ms/step - loss: 0.7665 - accuracy: 0.7220 - val_loss: 0.7522 - val_accuracy: 0.7216 - lr: 1.2500e-05\n",
      "Epoch 48/100\n",
      "91/91 [==============================] - 43s 474ms/step - loss: 0.7650 - accuracy: 0.7265 - val_loss: 0.7676 - val_accuracy: 0.7173 - lr: 1.2500e-05\n",
      "Epoch 49/100\n",
      "91/91 [==============================] - 45s 489ms/step - loss: 0.7609 - accuracy: 0.7299 - val_loss: 0.7689 - val_accuracy: 0.7145 - lr: 1.2500e-05\n"
     ]
    }
   ],
   "source": [
    "history = model.fit(\n",
    "    train_generator,\n",
    "    steps_per_epoch=train_generator.samples // batch_size,\n",
    "    validation_data=validation_generator,\n",
    "    validation_steps=validation_generator.samples // batch_size,\n",
    "    epochs=epochs,\n",
    "    callbacks=[mc , rlorp , es]\n",
    ")"
   ]
  },
  {
   "cell_type": "code",
   "execution_count": 18,
   "id": "27bff2d3-98ae-4d3e-a29e-7a5acfb54092",
   "metadata": {},
   "outputs": [
    {
     "data": {
      "image/png": "[encoded data removed]",
      "text/plain": [
       "<Figure size 640x480 with 1 Axes>"
      ]
     },
     "metadata": {},
     "output_type": "display_data"
    }
   ],
   "source": [
    "import matplotlib.pyplot as plt\n",
    "plt.plot(history.history['accuracy'] , color='green')\n",
    "plt.plot(history.history['val_accuracy'] , color='red')\n",
    "plt.show()"
   ]
  },
  {
   "cell_type": "code",
   "execution_count": 19,
   "id": "fc17a6b0-14f0-4c28-a1e1-4cd77e747ed3",
   "metadata": {},
   "outputs": [
    {
     "data": {
      "image/png": "[encoded data removed]",
      "text/plain": [
       "<Figure size 640x480 with 1 Axes>"
      ]
     },
     "metadata": {},
     "output_type": "display_data"
    }
   ],
   "source": [
    "plt.plot(history.history['loss'] , color='green')\n",
    "plt.plot(history.history['val_loss'] , color='red')\n",
    "plt.show()"
   ]
  },
  {
   "cell_type": "code",
   "execution_count": 20,
   "id": "a35620d6-5069-4527-a246-dab4a2f77399",
   "metadata": {},
   "outputs": [],
   "source": [
    "from pickle import dump\n",
    "with open('classes.h5' , 'wb') as f:\n",
    "    dump(train_generator.class_indices , f)"
   ]
  }
 ],
 "metadata": {
  "kernelspec": {
   "display_name": "Python 3 (ipykernel)",
   "language": "python",
   "name": "python3"
  },
  "language_info": {
   "codemirror_mode": {
    "name": "ipython",
    "version": 3
   },
   "file_extension": ".py",
   "mimetype": "text/x-python",
   "name": "python",
   "nbconvert_exporter": "python",
   "pygments_lexer": "ipython3",
   "version": "3.10.16"
  }
 },
 "nbformat": 4,
 "nbformat_minor": 5
}
