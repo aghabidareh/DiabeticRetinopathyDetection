{
 "cells": [
  {
   "cell_type": "markdown",
   "id": "b4ee79c1-bee6-4f73-9e5a-61d84b28fd8d",
   "metadata": {},
   "source": [
    "## Necessary Imports"
   ]
  },
  {
   "cell_type": "code",
   "execution_count": 12,
   "id": "c8da357a-2bae-439b-85f3-d9297387dc05",
   "metadata": {},
   "outputs": [],
   "source": [
    "from tensorflow.keras.preprocessing.image import ImageDataGenerator\n",
    "from tensorflow.keras.models import Model\n",
    "from tensorflow.keras.layers import Input, Conv2D, MaxPooling2D, Dropout, Dense, Flatten, concatenate\n",
    "from tensorflow.keras.callbacks import ModelCheckpoint , EarlyStopping , ReduceLROnPlateau\n",
    "from tensorflow.keras.optimizers import Adam\n",
    "from tensorflow.keras.losses import CategoricalCrossentropy\n",
    "from tensorflow.keras.metrics import CategoricalAccuracy"
   ]
  },
  {
   "cell_type": "markdown",
   "id": "7d41c01f-95f1-42a1-bd2a-2d7e698b7561",
   "metadata": {},
   "source": [
    "## Formal Settings"
   ]
  },
  {
   "cell_type": "code",
   "execution_count": 13,
   "id": "e8cbf87e-0f57-40d8-a733-2d3cf8861acd",
   "metadata": {},
   "outputs": [],
   "source": [
    "train_data_dir = 'data/'"
   ]
  },
  {
   "cell_type": "code",
   "execution_count": 14,
   "id": "a8b5107d-eb79-42e3-93d8-47a8854950f1",
   "metadata": {},
   "outputs": [],
   "source": [
    "img_width, img_height = 224, 224\n",
    "batch_size = 32\n",
    "epochs = 100\n",
    "num_classes = 5"
   ]
  },
  {
   "cell_type": "code",
   "execution_count": 15,
   "id": "5392f706-bf7f-4e48-8d9e-78c7da77456e",
   "metadata": {},
   "outputs": [
    {
     "name": "stdout",
     "output_type": "stream",
     "text": [
      "Found 2931 images belonging to 5 classes.\n",
      "Found 731 images belonging to 5 classes.\n"
     ]
    }
   ],
   "source": [
    "train_datagen = ImageDataGenerator(\n",
    "    rescale=1./255,\n",
    "    shear_range=0.2,\n",
    "    validation_split=0.2\n",
    ")\n",
    "\n",
    "train_generator = train_datagen.flow_from_directory(\n",
    "    train_data_dir,\n",
    "    target_size=(img_width, img_height),\n",
    "    batch_size=batch_size,\n",
    "    class_mode='categorical',\n",
    "    subset='training'\n",
    ")\n",
    "\n",
    "validation_generator = train_datagen.flow_from_directory(\n",
    "    train_data_dir,\n",
    "    target_size=(img_width, img_height),\n",
    "    batch_size=batch_size,\n",
    "    class_mode='categorical',\n",
    "    subset='validation'\n",
    ")"
   ]
  },
  {
   "cell_type": "markdown",
   "id": "45afe306-3c1d-45dd-a9b0-ee24e298a1ab",
   "metadata": {},
   "source": [
    "## Modeling"
   ]
  },
  {
   "cell_type": "code",
   "execution_count": 16,
   "id": "9b9bcda9-6876-411c-bbd0-7a6abd5a9e49",
   "metadata": {},
   "outputs": [],
   "source": [
    "def build_model(input_size,nb_classes):\n",
    "  inputs = Input(input_size)\n",
    "\n",
    "  conv1 = Conv2D(8, 3, input_shape=input_size, activation='relu', padding='same',\n",
    "                         kernel_initializer='he_normal')(inputs)\n",
    "  conv2 = Conv2D(8, 3, activation='relu', padding='same', kernel_initializer='he_normal')(conv1)\n",
    "  merge1 = concatenate([conv1, conv2], axis=3)\n",
    "\n",
    "  mp1 = MaxPooling2D((2,2))(merge1)\n",
    "  drop1 = Dropout(0.2)(mp1)\n",
    "\n",
    "  conv3 = Conv2D(8, 3, activation='relu', padding='same',\n",
    "                        kernel_initializer='he_normal')(drop1)\n",
    "  conv4 = Conv2D(8, 3, activation='relu', padding='same', kernel_initializer='he_normal')(conv3)\n",
    "  merge2 = concatenate([conv3, conv4], axis=3)\n",
    "\n",
    "  mp2 = MaxPooling2D((2, 2))(merge2)\n",
    "  drop2 = Dropout(0.35)(mp2)\n",
    "  conv5 = Conv2D(16, 3, activation='relu', padding='same',\n",
    "                        kernel_initializer='he_normal')(drop2)\n",
    "  conv6 = Conv2D(16, 3, activation='relu', padding='same', kernel_initializer='he_normal')(conv5)\n",
    "  merge3 = concatenate([conv5, conv6], axis=3)\n",
    "\n",
    "  mp3 = MaxPooling2D((2, 2))(merge3)\n",
    "\n",
    "  conv7 = Conv2D(16, 3, activation='relu', padding='same',\n",
    "                        kernel_initializer='he_normal')(mp3)\n",
    "  conv8 = Conv2D(16, 3, activation='relu', padding='same', kernel_initializer='he_normal')(conv7)\n",
    "  merge3 = concatenate([conv7, conv8], axis=3)\n",
    "\n",
    "  conv9 = Conv2D(32, 3, activation='relu', padding='same',\n",
    "                  kernel_initializer='he_normal')(merge3)\n",
    "  conv10 = Conv2D(32, 3, activation='relu', padding='same', kernel_initializer='he_normal')(conv9)\n",
    "  merge4 = concatenate([conv9, conv10], axis=3)\n",
    "\n",
    "  mp4 = MaxPooling2D((2, 2))(merge4)\n",
    "\n",
    "  conv11 = Conv2D(32, 3, activation='relu', padding='same',\n",
    "                  kernel_initializer='he_normal')(mp4)\n",
    "  conv12 = Conv2D(32, 3, activation='relu', padding='same', kernel_initializer='he_normal')(conv11)\n",
    "  merge5 = concatenate([conv11, conv12], axis=3)\n",
    "\n",
    "  conv13 = Conv2D(64, 3, activation='relu', padding='same',\n",
    "                  kernel_initializer='he_normal')(merge5)\n",
    "  conv14 = Conv2D(64, 3, activation='relu', padding='same', kernel_initializer='he_normal')(conv13)\n",
    "  merge6 = concatenate([conv13, conv14], axis=3)\n",
    "\n",
    "  conv15 = Conv2D(64, 3, activation='relu', padding='same',\n",
    "                  kernel_initializer='he_normal')(merge6)\n",
    "  conv16 = Conv2D(64, 3, activation='relu', padding='same', kernel_initializer='he_normal')(conv15)\n",
    "  merge7 = concatenate([conv15, conv16], axis=3)\n",
    "\n",
    "  mp5 = MaxPooling2D((2, 2))(merge7)\n",
    "\n",
    "  drop4 = Dropout(0.45)(mp5)\n",
    "  flat = Flatten()(drop4)\n",
    "\n",
    "  dense1 = Dense(nb_classes, activation='softmax')(flat)\n",
    "\n",
    "  return Model(inputs, dense1)"
   ]
  },
  {
   "cell_type": "code",
   "execution_count": 17,
   "id": "b083a15b-0c53-4f2b-b66d-fd5f5c7ee4e2",
   "metadata": {},
   "outputs": [],
   "source": [
    "model = build_model((img_width, img_height , 3) , num_classes)"
   ]
  },
  {
   "cell_type": "markdown",
   "id": "4ba9fc61-8b1d-4de2-bebd-cc9baf0ca235",
   "metadata": {},
   "source": [
    "## Model Compiling"
   ]
  },
  {
   "cell_type": "code",
   "execution_count": 18,
   "id": "b5ecdd56-386a-4c94-945a-327bae2b6634",
   "metadata": {},
   "outputs": [],
   "source": [
    "loss = CategoricalCrossentropy(name='loss')\n",
    "metrics = [CategoricalAccuracy(name='accuracy')]\n",
    "optimizer = Adam(learning_rate=0.005 , name='optimizer')"
   ]
  },
  {
   "cell_type": "code",
   "execution_count": 19,
   "id": "01236652-cd88-492c-bda2-c97872d2c9d0",
   "metadata": {},
   "outputs": [],
   "source": [
    "model.compile(optimizer=optimizer, loss=loss, metrics=metrics)"
   ]
  },
  {
   "cell_type": "code",
   "execution_count": 20,
   "id": "ab0d1d12-e70b-4757-ae4a-36e1b03ab707",
   "metadata": {
    "scrolled": true
   },
   "outputs": [
    {
     "name": "stdout",
     "output_type": "stream",
     "text": [
      "Model: \"model_1\"\n",
      "__________________________________________________________________________________________________\n",
      " Layer (type)                   Output Shape         Param #     Connected to                     \n",
      "==================================================================================================\n",
      " input_2 (InputLayer)           [(None, 224, 224, 3  0           []                               \n",
      "                                )]                                                                \n",
      "                                                                                                  \n",
      " conv2d_16 (Conv2D)             (None, 224, 224, 8)  224         ['input_2[0][0]']                \n",
      "                                                                                                  \n",
      " conv2d_17 (Conv2D)             (None, 224, 224, 8)  584         ['conv2d_16[0][0]']              \n",
      "                                                                                                  \n",
      " concatenate_8 (Concatenate)    (None, 224, 224, 16  0           ['conv2d_16[0][0]',              \n",
      "                                )                                 'conv2d_17[0][0]']              \n",
      "                                                                                                  \n",
      " max_pooling2d_5 (MaxPooling2D)  (None, 112, 112, 16  0          ['concatenate_8[0][0]']          \n",
      "                                )                                                                 \n",
      "                                                                                                  \n",
      " dropout_3 (Dropout)            (None, 112, 112, 16  0           ['max_pooling2d_5[0][0]']        \n",
      "                                )                                                                 \n",
      "                                                                                                  \n",
      " conv2d_18 (Conv2D)             (None, 112, 112, 8)  1160        ['dropout_3[0][0]']              \n",
      "                                                                                                  \n",
      " conv2d_19 (Conv2D)             (None, 112, 112, 8)  584         ['conv2d_18[0][0]']              \n",
      "                                                                                                  \n",
      " concatenate_9 (Concatenate)    (None, 112, 112, 16  0           ['conv2d_18[0][0]',              \n",
      "                                )                                 'conv2d_19[0][0]']              \n",
      "                                                                                                  \n",
      " max_pooling2d_6 (MaxPooling2D)  (None, 56, 56, 16)  0           ['concatenate_9[0][0]']          \n",
      "                                                                                                  \n",
      " dropout_4 (Dropout)            (None, 56, 56, 16)   0           ['max_pooling2d_6[0][0]']        \n",
      "                                                                                                  \n",
      " conv2d_20 (Conv2D)             (None, 56, 56, 16)   2320        ['dropout_4[0][0]']              \n",
      "                                                                                                  \n",
      " conv2d_21 (Conv2D)             (None, 56, 56, 16)   2320        ['conv2d_20[0][0]']              \n",
      "                                                                                                  \n",
      " concatenate_10 (Concatenate)   (None, 56, 56, 32)   0           ['conv2d_20[0][0]',              \n",
      "                                                                  'conv2d_21[0][0]']              \n",
      "                                                                                                  \n",
      " max_pooling2d_7 (MaxPooling2D)  (None, 28, 28, 32)  0           ['concatenate_10[0][0]']         \n",
      "                                                                                                  \n",
      " conv2d_22 (Conv2D)             (None, 28, 28, 16)   4624        ['max_pooling2d_7[0][0]']        \n",
      "                                                                                                  \n",
      " conv2d_23 (Conv2D)             (None, 28, 28, 16)   2320        ['conv2d_22[0][0]']              \n",
      "                                                                                                  \n",
      " concatenate_11 (Concatenate)   (None, 28, 28, 32)   0           ['conv2d_22[0][0]',              \n",
      "                                                                  'conv2d_23[0][0]']              \n",
      "                                                                                                  \n",
      " conv2d_24 (Conv2D)             (None, 28, 28, 32)   9248        ['concatenate_11[0][0]']         \n",
      "                                                                                                  \n",
      " conv2d_25 (Conv2D)             (None, 28, 28, 32)   9248        ['conv2d_24[0][0]']              \n",
      "                                                                                                  \n",
      " concatenate_12 (Concatenate)   (None, 28, 28, 64)   0           ['conv2d_24[0][0]',              \n",
      "                                                                  'conv2d_25[0][0]']              \n",
      "                                                                                                  \n",
      " max_pooling2d_8 (MaxPooling2D)  (None, 14, 14, 64)  0           ['concatenate_12[0][0]']         \n",
      "                                                                                                  \n",
      " conv2d_26 (Conv2D)             (None, 14, 14, 32)   18464       ['max_pooling2d_8[0][0]']        \n",
      "                                                                                                  \n",
      " conv2d_27 (Conv2D)             (None, 14, 14, 32)   9248        ['conv2d_26[0][0]']              \n",
      "                                                                                                  \n",
      " concatenate_13 (Concatenate)   (None, 14, 14, 64)   0           ['conv2d_26[0][0]',              \n",
      "                                                                  'conv2d_27[0][0]']              \n",
      "                                                                                                  \n",
      " conv2d_28 (Conv2D)             (None, 14, 14, 64)   36928       ['concatenate_13[0][0]']         \n",
      "                                                                                                  \n",
      " conv2d_29 (Conv2D)             (None, 14, 14, 64)   36928       ['conv2d_28[0][0]']              \n",
      "                                                                                                  \n",
      " concatenate_14 (Concatenate)   (None, 14, 14, 128)  0           ['conv2d_28[0][0]',              \n",
      "                                                                  'conv2d_29[0][0]']              \n",
      "                                                                                                  \n",
      " conv2d_30 (Conv2D)             (None, 14, 14, 64)   73792       ['concatenate_14[0][0]']         \n",
      "                                                                                                  \n",
      " conv2d_31 (Conv2D)             (None, 14, 14, 64)   36928       ['conv2d_30[0][0]']              \n",
      "                                                                                                  \n",
      " concatenate_15 (Concatenate)   (None, 14, 14, 128)  0           ['conv2d_30[0][0]',              \n",
      "                                                                  'conv2d_31[0][0]']              \n",
      "                                                                                                  \n",
      " max_pooling2d_9 (MaxPooling2D)  (None, 7, 7, 128)   0           ['concatenate_15[0][0]']         \n",
      "                                                                                                  \n",
      " dropout_5 (Dropout)            (None, 7, 7, 128)    0           ['max_pooling2d_9[0][0]']        \n",
      "                                                                                                  \n",
      " flatten_1 (Flatten)            (None, 6272)         0           ['dropout_5[0][0]']              \n",
      "                                                                                                  \n",
      " dense_1 (Dense)                (None, 5)            31365       ['flatten_1[0][0]']              \n",
      "                                                                                                  \n",
      "==================================================================================================\n",
      "Total params: 276,285\n",
      "Trainable params: 276,285\n",
      "Non-trainable params: 0\n",
      "__________________________________________________________________________________________________\n"
     ]
    }
   ],
   "source": [
    "model.summary()"
   ]
  },
  {
   "cell_type": "markdown",
   "id": "9ba6e62f-d6f2-4a25-a57d-b2993c99e362",
   "metadata": {},
   "source": [
    "## Fitting The Model"
   ]
  },
  {
   "cell_type": "code",
   "execution_count": 21,
   "id": "d488776e-fe85-4d21-a68f-d6ca63b7e298",
   "metadata": {},
   "outputs": [],
   "source": [
    "checkpoint_filepath = 'model.h5'\n",
    "mc = ModelCheckpoint(\n",
    "    filepath=checkpoint_filepath,\n",
    "    monitor='val_loss',\n",
    "    mode='min',\n",
    "    save_best_only=True,\n",
    ")\n",
    "es = EarlyStopping(\n",
    "    monitor='val_loss',\n",
    "    patience=3,\n",
    ")\n",
    "rlrop = ReduceLROnPlateau(\n",
    "    monitor=\"val_loss\",\n",
    "    min_lr=0.001,\n",
    "    factor=0.3,\n",
    "    patience=2\n",
    ")"
   ]
  },
  {
   "cell_type": "code",
   "execution_count": 22,
   "id": "3fa6c75a-ae34-4065-b5cf-47a77b45870c",
   "metadata": {},
   "outputs": [
    {
     "name": "stdout",
     "output_type": "stream",
     "text": [
      "Epoch 1/100\n",
      "91/91 [==============================] - 45s 475ms/step - loss: 1.1102 - accuracy: 0.5971 - val_loss: 1.0285 - val_accuracy: 0.6918 - lr: 0.0010\n",
      "Epoch 2/100\n",
      "91/91 [==============================] - 43s 466ms/step - loss: 0.8589 - accuracy: 0.6954 - val_loss: 0.8878 - val_accuracy: 0.6861 - lr: 0.0010\n",
      "Epoch 3/100\n",
      "91/91 [==============================] - 43s 465ms/step - loss: 0.8174 - accuracy: 0.7030 - val_loss: 0.8110 - val_accuracy: 0.6989 - lr: 0.0010\n",
      "Epoch 4/100\n",
      "91/91 [==============================] - 51s 553ms/step - loss: 0.7824 - accuracy: 0.7133 - val_loss: 0.8595 - val_accuracy: 0.6534 - lr: 0.0010\n",
      "Epoch 5/100\n",
      "91/91 [==============================] - 47s 514ms/step - loss: 0.7720 - accuracy: 0.7147 - val_loss: 1.3199 - val_accuracy: 0.5199 - lr: 0.0010\n",
      "Epoch 6/100\n",
      "91/91 [==============================] - 43s 466ms/step - loss: 0.7480 - accuracy: 0.7278 - val_loss: 0.8780 - val_accuracy: 0.6932 - lr: 0.0010\n"
     ]
    }
   ],
   "source": [
    "history = model.fit(\n",
    "    train_generator,\n",
    "    steps_per_epoch=train_generator.samples // batch_size,\n",
    "    validation_data=validation_generator,\n",
    "    validation_steps=validation_generator.samples // batch_size,\n",
    "    epochs=epochs,\n",
    "    callbacks=[mc , rlrop, es]\n",
    ")"
   ]
  },
  {
   "cell_type": "markdown",
   "id": "9521f950-2d7c-4ab0-a1dc-9c274b4b61c1",
   "metadata": {},
   "source": [
    "## Stats"
   ]
  },
  {
   "cell_type": "code",
   "execution_count": 30,
   "id": "c174e87d-6df9-403b-99bc-89c6239817f7",
   "metadata": {},
   "outputs": [
    {
     "data": {
      "image/png": "[encoded data removed]",
      "text/plain": [
       "<Figure size 640x480 with 1 Axes>"
      ]
     },
     "metadata": {},
     "output_type": "display_data"
    }
   ],
   "source": [
    "import matplotlib.pyplot as plt\n",
    "plt.plot(history.history['accuracy'] , color='green')\n",
    "plt.plot(history.history['val_accuracy'] , color='red')\n",
    "plt.show()"
   ]
  },
  {
   "cell_type": "code",
   "execution_count": 31,
   "id": "30a14ab2-d5be-4bb9-b75b-0fcd60683de3",
   "metadata": {},
   "outputs": [
    {
     "data": {
      "image/png": "[encoded data removed]",
      "text/plain": [
       "<Figure size 640x480 with 1 Axes>"
      ]
     },
     "metadata": {},
     "output_type": "display_data"
    }
   ],
   "source": [
    "plt.plot(history.history['loss'] , color='green')\n",
    "plt.plot(history.history['val_loss'] , color='red')\n",
    "plt.show()"
   ]
  },
  {
   "cell_type": "markdown",
   "id": "8bf18a24-c734-487a-ba2d-b72987fc4a41",
   "metadata": {},
   "source": [
    "## Saving Settings and Model"
   ]
  },
  {
   "cell_type": "code",
   "execution_count": 23,
   "id": "16ba1cee-9870-430c-a45b-e4ae8d506012",
   "metadata": {},
   "outputs": [],
   "source": [
    "from pickle import dump\n",
    "with open('classes.h5' , 'wb') as f:\n",
    "    dump(train_generator.class_indices , f)"
   ]
  }
 ],
 "metadata": {
  "kernelspec": {
   "display_name": "Python 3 (ipykernel)",
   "language": "python",
   "name": "python3"
  },
  "language_info": {
   "codemirror_mode": {
    "name": "ipython",
    "version": 3
   },
   "file_extension": ".py",
   "mimetype": "text/x-python",
   "name": "python",
   "nbconvert_exporter": "python",
   "pygments_lexer": "ipython3",
   "version": "3.10.16"
  }
 },
 "nbformat": 4,
 "nbformat_minor": 5
}
